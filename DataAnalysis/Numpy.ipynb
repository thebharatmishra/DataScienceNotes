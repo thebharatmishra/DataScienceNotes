{
  "cells": [
    {
      "cell_type": "code",
      "execution_count": 2,
      "metadata": {
        "id": "yfrQft2_H50r",
        "outputId": "09291739-0057-4252-fc32-9c59c475854c",
        "colab": {
          "base_uri": "https://localhost:8080/"
        }
      },
      "outputs": [
        {
          "output_type": "stream",
          "name": "stdout",
          "text": [
            "[2 4 5]\n"
          ]
        }
      ],
      "source": [
        "import numpy as np\n",
        "\n",
        "c = np.array([2,4,5], dtype=\"int16\")\n",
        "print(c)"
      ]
    },
    {
      "cell_type": "code",
      "execution_count": null,
      "metadata": {
        "id": "FF4ypPn2H50v",
        "outputId": "5ffc3a43-c988-4b21-838e-d09ea906965d"
      },
      "outputs": [
        {
          "name": "stdout",
          "output_type": "stream",
          "text": [
            "[[3.5 4.  5.4 5.3]\n",
            " [1.2 8.  9.  6. ]]\n"
          ]
        }
      ],
      "source": [
        "#2-D Array\n",
        "d=np.array([[3.5,4.0,5.4,5.3],[1.2,8.0,9.0,6.0]])\n",
        "print(d)"
      ]
    },
    {
      "cell_type": "code",
      "execution_count": null,
      "metadata": {
        "id": "foyYtcXVH50z",
        "outputId": "add9698f-b3ca-45b9-e2c2-92c194b1477c"
      },
      "outputs": [
        {
          "data": {
            "text/plain": [
              "2"
            ]
          },
          "execution_count": 20,
          "metadata": {},
          "output_type": "execute_result"
        }
      ],
      "source": [
        "#Get Dimension\n",
        "d.ndim"
      ]
    },
    {
      "cell_type": "code",
      "execution_count": null,
      "metadata": {
        "id": "eOHlSb11H502",
        "outputId": "2bcbc7c2-1db6-4b6e-c59b-2ab42ac7a179"
      },
      "outputs": [
        {
          "data": {
            "text/plain": [
              "(2, 4)"
            ]
          },
          "execution_count": 21,
          "metadata": {},
          "output_type": "execute_result"
        }
      ],
      "source": [
        "# Get Shape\n",
        "d.shape"
      ]
    },
    {
      "cell_type": "code",
      "execution_count": null,
      "metadata": {
        "id": "xDWLX_YDH506",
        "outputId": "c94e2043-5317-4b8e-a3fb-0f0c2395b202"
      },
      "outputs": [
        {
          "data": {
            "text/plain": [
              "dtype('int16')"
            ]
          },
          "execution_count": 22,
          "metadata": {},
          "output_type": "execute_result"
        }
      ],
      "source": [
        "# Get Type\n",
        "d.dtype\n",
        "c.dtype"
      ]
    },
    {
      "cell_type": "code",
      "execution_count": null,
      "metadata": {
        "id": "ctjTjzUQH509",
        "outputId": "019abedf-368e-459a-a1cf-cd97e4ab6f28"
      },
      "outputs": [
        {
          "data": {
            "text/plain": [
              "8"
            ]
          },
          "execution_count": 23,
          "metadata": {},
          "output_type": "execute_result"
        }
      ],
      "source": [
        "# Get Size\n",
        "d.itemsize"
      ]
    },
    {
      "cell_type": "code",
      "execution_count": null,
      "metadata": {
        "id": "BCLPCzOgH51A",
        "outputId": "f5a2d8e6-364f-4e8e-ed1f-dfff459bf515"
      },
      "outputs": [
        {
          "data": {
            "text/plain": [
              "64"
            ]
          },
          "execution_count": 24,
          "metadata": {},
          "output_type": "execute_result"
        }
      ],
      "source": [
        "# Get Total Size\n",
        "d.nbytes"
      ]
    },
    {
      "cell_type": "code",
      "execution_count": null,
      "metadata": {
        "id": "YsMyguN8H51D",
        "outputId": "f7eefcb6-a24c-444d-c9fe-e212a15f01ed"
      },
      "outputs": [
        {
          "name": "stdout",
          "output_type": "stream",
          "text": [
            "[[1 3 4 5 6 6 7 4]\n",
            " [7 8 9 6 5 4 3 2]]\n"
          ]
        }
      ],
      "source": [
        "v= np.array([[1,3,4,5,6,6,7,4],[7,8,9,6,5,4,3,2]])\n",
        "print(v)"
      ]
    },
    {
      "cell_type": "code",
      "execution_count": null,
      "metadata": {
        "id": "uSVStgcMH51G",
        "outputId": "a7166423-2bf0-44c2-c017-b9a6df69a628"
      },
      "outputs": [
        {
          "data": {
            "text/plain": [
              "6"
            ]
          },
          "execution_count": 26,
          "metadata": {},
          "output_type": "execute_result"
        }
      ],
      "source": [
        "# Get Specific element [r,c]\n",
        "v[1]\n",
        "v[1,3]"
      ]
    },
    {
      "cell_type": "code",
      "execution_count": null,
      "metadata": {
        "id": "Nv2tp9ePH51M",
        "outputId": "0a356e9b-0ae0-4beb-a1b5-6a5368ae464e"
      },
      "outputs": [
        {
          "data": {
            "text/plain": [
              "array([1, 3, 4, 5, 6, 6, 7, 4])"
            ]
          },
          "execution_count": 27,
          "metadata": {},
          "output_type": "execute_result"
        }
      ],
      "source": [
        "# Get specific row\n",
        "v[0,:]"
      ]
    },
    {
      "cell_type": "code",
      "execution_count": null,
      "metadata": {
        "id": "q5D_e_ezH51P",
        "outputId": "5bfc333e-9bb0-4def-a607-4b001164d82c"
      },
      "outputs": [
        {
          "data": {
            "text/plain": [
              "array([4, 9])"
            ]
          },
          "execution_count": 28,
          "metadata": {},
          "output_type": "execute_result"
        }
      ],
      "source": [
        "# Get a specific col\n",
        "v[:,2]"
      ]
    },
    {
      "cell_type": "code",
      "execution_count": null,
      "metadata": {
        "id": "qD7UHr3XH51S",
        "outputId": "e52b17f2-cf49-4dbf-b11d-be4d9a91e6b9"
      },
      "outputs": [
        {
          "data": {
            "text/plain": [
              "array([3, 5, 6])"
            ]
          },
          "execution_count": 29,
          "metadata": {},
          "output_type": "execute_result"
        }
      ],
      "source": [
        "# [startindex:setindex:stepsize]\n",
        "v[0,1:-1:2]"
      ]
    },
    {
      "cell_type": "code",
      "execution_count": null,
      "metadata": {
        "id": "O4Y2AeFsH51U",
        "outputId": "8248e805-3dc3-46a0-f393-e2d8eedb5ca3"
      },
      "outputs": [
        {
          "data": {
            "text/plain": [
              "array([[ 1,  3,  4,  5,  6,  6,  7,  4],\n",
              "       [ 7,  8,  1,  6,  5,  4, 69,  2]])"
            ]
          },
          "execution_count": 30,
          "metadata": {},
          "output_type": "execute_result"
        }
      ],
      "source": [
        "v[1,6]=69\n",
        "v[:,2]=[4,1]\n",
        "\n",
        "v"
      ]
    },
    {
      "cell_type": "code",
      "execution_count": null,
      "metadata": {
        "id": "nmQGoeaMH51V"
      },
      "outputs": [],
      "source": [
        "# 3D arrays\n",
        "d= np.array([[[2,3,4],[2,4,6]],[[1,6,3],[0,8,9]]])"
      ]
    },
    {
      "cell_type": "code",
      "execution_count": null,
      "metadata": {
        "id": "VVRU7om5H51V",
        "outputId": "5eb9dfbf-dbf2-47ce-d684-4366fc3042c6"
      },
      "outputs": [
        {
          "ename": "ValueError",
          "evalue": "setting an array element with a sequence. The requested array has an inhomogeneous shape after 1 dimensions. The detected shape was (2,) + inhomogeneous part.",
          "output_type": "error",
          "traceback": [
            "\u001b[1;31m---------------------------------------------------------------------------\u001b[0m",
            "\u001b[1;31mValueError\u001b[0m                                Traceback (most recent call last)",
            "Cell \u001b[1;32mIn[33], line 2\u001b[0m\n\u001b[0;32m      1\u001b[0m d[\u001b[38;5;241m0\u001b[39m,\u001b[38;5;241m1\u001b[39m,\u001b[38;5;241m2\u001b[39m]\n\u001b[1;32m----> 2\u001b[0m \u001b[43md\u001b[49m\u001b[43m[\u001b[49m\u001b[43m:\u001b[49m\u001b[43m,\u001b[49m\u001b[38;5;241;43m1\u001b[39;49m\u001b[43m:\u001b[49m\u001b[43m]\u001b[49m\u001b[38;5;241m=\u001b[39m[[\u001b[38;5;241m9\u001b[39m,\u001b[38;5;241m3\u001b[39m,\u001b[38;5;241m4\u001b[39m],[\u001b[38;5;241m2\u001b[39m,\u001b[38;5;241m3\u001b[39m]]\n",
            "\u001b[1;31mValueError\u001b[0m: setting an array element with a sequence. The requested array has an inhomogeneous shape after 1 dimensions. The detected shape was (2,) + inhomogeneous part."
          ]
        }
      ],
      "source": [
        "d[0,1,2]\n",
        "d[:,1:]=[[9,3,4],[2,3]]"
      ]
    },
    {
      "cell_type": "markdown",
      "metadata": {
        "id": "1d5XPa4yH51X"
      },
      "source": [
        "### Intializing Different Types of Arrays"
      ]
    },
    {
      "cell_type": "code",
      "execution_count": null,
      "metadata": {
        "id": "ns156dUVH51c",
        "outputId": "ca29f52c-fd7a-4cc6-f9b0-04402272ca95"
      },
      "outputs": [
        {
          "data": {
            "text/plain": [
              "array([[100, 100, 100, 100, 100, 100, 100, 100],\n",
              "       [100, 100, 100, 100, 100, 100, 100, 100]])"
            ]
          },
          "execution_count": 92,
          "metadata": {},
          "output_type": "execute_result"
        }
      ],
      "source": [
        "# intialize with zeros\n",
        "np.zeros((1,2,3,4,5))\n",
        "\n",
        "# intialize with 1s\n",
        "np.ones((4,2,2), dtype=\"int32\")\n",
        "\n",
        "#intialize with any number\n",
        "np.full((2,2),99,dtype='float32')\n",
        "\n",
        "# reusing intialized to fill alike\n",
        "np.full_like(v,100)"
      ]
    },
    {
      "cell_type": "code",
      "execution_count": null,
      "metadata": {
        "id": "Rr-cT-ChH51e",
        "outputId": "ffa612bb-1d2a-4bda-b2c1-ddb9ac576c58"
      },
      "outputs": [
        {
          "name": "stdout",
          "output_type": "stream",
          "text": [
            "[['a' 'b']\n",
            " ['d' 'e']\n",
            " ['g' 'h']]\n"
          ]
        }
      ],
      "source": [
        "A = np.array([\n",
        "    ['a', 'b', 'c'],\n",
        "    ['d', 'e', 'f'],\n",
        "    ['g', 'h', 'i']\n",
        "])\n",
        "\n",
        "print(A[:, :2])"
      ]
    },
    {
      "cell_type": "code",
      "execution_count": 20,
      "metadata": {
        "id": "WxGyyKcoH51f",
        "outputId": "2d3ac3d4-560d-454b-88ac-7e3ecbc7e202",
        "colab": {
          "base_uri": "https://localhost:8080/"
        }
      },
      "outputs": [
        {
          "output_type": "stream",
          "name": "stdout",
          "text": [
            "[1 2 3 4 5]\n",
            "<class 'numpy.ndarray'>\n",
            "[2 3 4 5]\n",
            "(2, 5)\n",
            "2\n",
            "10\n",
            "int64\n",
            "[  0. 100. 200. 300. 400. 500.]\n",
            "nan\n",
            "True\n",
            "[ True]\n"
          ]
        },
        {
          "output_type": "stream",
          "name": "stderr",
          "text": [
            "<ipython-input-20-c2627010839e>:19: RuntimeWarning: invalid value encountered in sqrt\n",
            "  print(np.isnan(np.sqrt(-1)))\n",
            "<ipython-input-20-c2627010839e>:20: RuntimeWarning: divide by zero encountered in divide\n",
            "  print(np.isinf(np.array([10])/0))\n"
          ]
        }
      ],
      "source": [
        "a=np.array([1,2,3,4,5])\n",
        "print(a)\n",
        "print(type(a))\n",
        "print(a[1:])\n",
        "a_mul =np.array([[1,2,3,4,5],[1,4,32,22,3]])\n",
        "print(a_mul.shape)\n",
        "print(a_mul.ndim)\n",
        "print(a_mul.size)\n",
        "print(a_mul.dtype)\n",
        "# c= np.full((10,10,10),69)\n",
        "# print(c)\n",
        "# np.zeros and np.ones\n",
        "# empty is different from zeros\n",
        "# x_values = np.arrange(0,1005,5)\n",
        "# print(x_values)\n",
        "y_values = np.linspace(0,500,6)\n",
        "print(y_values)\n",
        "print(np.nan)\n",
        "print(np.isnan(np.sqrt(-1)))\n",
        "print(np.isinf(np.array([10])/0))"
      ]
    }
  ],
  "metadata": {
    "kernelspec": {
      "display_name": "Python 3",
      "language": "python",
      "name": "python3"
    },
    "language_info": {
      "codemirror_mode": {
        "name": "ipython",
        "version": 3
      },
      "file_extension": ".py",
      "mimetype": "text/x-python",
      "name": "python",
      "nbconvert_exporter": "python",
      "pygments_lexer": "ipython3",
      "version": "3.11.5"
    },
    "orig_nbformat": 4,
    "colab": {
      "provenance": []
    }
  },
  "nbformat": 4,
  "nbformat_minor": 0
}