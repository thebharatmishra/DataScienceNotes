{
 "cells": [
  {
   "cell_type": "code",
   "execution_count": 2,
   "metadata": {
    "colab": {
     "base_uri": "https://localhost:8080/"
    },
    "id": "yfrQft2_H50r",
    "outputId": "09291739-0057-4252-fc32-9c59c475854c"
   },
   "outputs": [
    {
     "name": "stdout",
     "output_type": "stream",
     "text": [
      "[2 4 5]\n"
     ]
    }
   ],
   "source": [
    "import numpy as np\n",
    "\n",
    "c = np.array([2,4,5], dtype=\"int16\")\n",
    "print(c)"
   ]
  },
  {
   "cell_type": "code",
   "execution_count": null,
   "metadata": {
    "id": "FF4ypPn2H50v",
    "outputId": "5ffc3a43-c988-4b21-838e-d09ea906965d"
   },
   "outputs": [
    {
     "name": "stdout",
     "output_type": "stream",
     "text": [
      "[[3.5 4.  5.4 5.3]\n",
      " [1.2 8.  9.  6. ]]\n"
     ]
    }
   ],
   "source": [
    "#2-D Array\n",
    "d=np.array([[3.5,4.0,5.4,5.3],[1.2,8.0,9.0,6.0]])\n",
    "print(d)"
   ]
  },
  {
   "cell_type": "code",
   "execution_count": null,
   "metadata": {
    "id": "foyYtcXVH50z",
    "outputId": "add9698f-b3ca-45b9-e2c2-92c194b1477c"
   },
   "outputs": [
    {
     "data": {
      "text/plain": [
       "2"
      ]
     },
     "execution_count": 20,
     "metadata": {},
     "output_type": "execute_result"
    }
   ],
   "source": [
    "#Get Dimension\n",
    "d.ndim"
   ]
  },
  {
   "cell_type": "code",
   "execution_count": null,
   "metadata": {
    "id": "eOHlSb11H502",
    "outputId": "2bcbc7c2-1db6-4b6e-c59b-2ab42ac7a179"
   },
   "outputs": [
    {
     "data": {
      "text/plain": [
       "(2, 4)"
      ]
     },
     "execution_count": 21,
     "metadata": {},
     "output_type": "execute_result"
    }
   ],
   "source": [
    "# Get Shape\n",
    "d.shape"
   ]
  },
  {
   "cell_type": "code",
   "execution_count": null,
   "metadata": {
    "id": "xDWLX_YDH506",
    "outputId": "c94e2043-5317-4b8e-a3fb-0f0c2395b202"
   },
   "outputs": [
    {
     "data": {
      "text/plain": [
       "dtype('int16')"
      ]
     },
     "execution_count": 22,
     "metadata": {},
     "output_type": "execute_result"
    }
   ],
   "source": [
    "# Get Type\n",
    "d.dtype\n",
    "c.dtype"
   ]
  },
  {
   "cell_type": "code",
   "execution_count": null,
   "metadata": {
    "id": "ctjTjzUQH509",
    "outputId": "019abedf-368e-459a-a1cf-cd97e4ab6f28"
   },
   "outputs": [
    {
     "data": {
      "text/plain": [
       "8"
      ]
     },
     "execution_count": 23,
     "metadata": {},
     "output_type": "execute_result"
    }
   ],
   "source": [
    "# Get Size\n",
    "d.itemsize"
   ]
  },
  {
   "cell_type": "code",
   "execution_count": null,
   "metadata": {
    "id": "BCLPCzOgH51A",
    "outputId": "f5a2d8e6-364f-4e8e-ed1f-dfff459bf515"
   },
   "outputs": [
    {
     "data": {
      "text/plain": [
       "64"
      ]
     },
     "execution_count": 24,
     "metadata": {},
     "output_type": "execute_result"
    }
   ],
   "source": [
    "# Get Total Size\n",
    "d.nbytes"
   ]
  },
  {
   "cell_type": "code",
   "execution_count": null,
   "metadata": {
    "id": "YsMyguN8H51D",
    "outputId": "f7eefcb6-a24c-444d-c9fe-e212a15f01ed"
   },
   "outputs": [
    {
     "name": "stdout",
     "output_type": "stream",
     "text": [
      "[[1 3 4 5 6 6 7 4]\n",
      " [7 8 9 6 5 4 3 2]]\n"
     ]
    }
   ],
   "source": [
    "v= np.array([[1,3,4,5,6,6,7,4],[7,8,9,6,5,4,3,2]])\n",
    "print(v)"
   ]
  },
  {
   "cell_type": "code",
   "execution_count": null,
   "metadata": {
    "id": "uSVStgcMH51G",
    "outputId": "a7166423-2bf0-44c2-c017-b9a6df69a628"
   },
   "outputs": [
    {
     "data": {
      "text/plain": [
       "6"
      ]
     },
     "execution_count": 26,
     "metadata": {},
     "output_type": "execute_result"
    }
   ],
   "source": [
    "# Get Specific element [r,c]\n",
    "v[1]\n",
    "v[1,3]"
   ]
  },
  {
   "cell_type": "code",
   "execution_count": null,
   "metadata": {
    "id": "Nv2tp9ePH51M",
    "outputId": "0a356e9b-0ae0-4beb-a1b5-6a5368ae464e"
   },
   "outputs": [
    {
     "data": {
      "text/plain": [
       "array([1, 3, 4, 5, 6, 6, 7, 4])"
      ]
     },
     "execution_count": 27,
     "metadata": {},
     "output_type": "execute_result"
    }
   ],
   "source": [
    "# Get specific row\n",
    "v[0,:]"
   ]
  },
  {
   "cell_type": "code",
   "execution_count": null,
   "metadata": {
    "id": "q5D_e_ezH51P",
    "outputId": "5bfc333e-9bb0-4def-a607-4b001164d82c"
   },
   "outputs": [
    {
     "data": {
      "text/plain": [
       "array([4, 9])"
      ]
     },
     "execution_count": 28,
     "metadata": {},
     "output_type": "execute_result"
    }
   ],
   "source": [
    "# Get a specific col\n",
    "v[:,2]"
   ]
  },
  {
   "cell_type": "code",
   "execution_count": null,
   "metadata": {
    "id": "qD7UHr3XH51S",
    "outputId": "e52b17f2-cf49-4dbf-b11d-be4d9a91e6b9"
   },
   "outputs": [
    {
     "data": {
      "text/plain": [
       "array([3, 5, 6])"
      ]
     },
     "execution_count": 29,
     "metadata": {},
     "output_type": "execute_result"
    }
   ],
   "source": [
    "# [startindex:setindex:stepsize]\n",
    "v[0,1:-1:2]"
   ]
  },
  {
   "cell_type": "code",
   "execution_count": null,
   "metadata": {
    "id": "O4Y2AeFsH51U",
    "outputId": "8248e805-3dc3-46a0-f393-e2d8eedb5ca3"
   },
   "outputs": [
    {
     "data": {
      "text/plain": [
       "array([[ 1,  3,  4,  5,  6,  6,  7,  4],\n",
       "       [ 7,  8,  1,  6,  5,  4, 69,  2]])"
      ]
     },
     "execution_count": 30,
     "metadata": {},
     "output_type": "execute_result"
    }
   ],
   "source": [
    "v[1,6]=69\n",
    "v[:,2]=[4,1]\n",
    "\n",
    "v"
   ]
  },
  {
   "cell_type": "code",
   "execution_count": null,
   "metadata": {
    "id": "nmQGoeaMH51V"
   },
   "outputs": [],
   "source": [
    "# 3D arrays\n",
    "d= np.array([[[2,3,4],[2,4,6]],[[1,6,3],[0,8,9]]])"
   ]
  },
  {
   "cell_type": "code",
   "execution_count": null,
   "metadata": {
    "id": "VVRU7om5H51V",
    "outputId": "5eb9dfbf-dbf2-47ce-d684-4366fc3042c6"
   },
   "outputs": [
    {
     "ename": "ValueError",
     "evalue": "setting an array element with a sequence. The requested array has an inhomogeneous shape after 1 dimensions. The detected shape was (2,) + inhomogeneous part.",
     "output_type": "error",
     "traceback": [
      "\u001b[1;31m---------------------------------------------------------------------------\u001b[0m",
      "\u001b[1;31mValueError\u001b[0m                                Traceback (most recent call last)",
      "Cell \u001b[1;32mIn[33], line 2\u001b[0m\n\u001b[0;32m      1\u001b[0m d[\u001b[38;5;241m0\u001b[39m,\u001b[38;5;241m1\u001b[39m,\u001b[38;5;241m2\u001b[39m]\n\u001b[1;32m----> 2\u001b[0m \u001b[43md\u001b[49m\u001b[43m[\u001b[49m\u001b[43m:\u001b[49m\u001b[43m,\u001b[49m\u001b[38;5;241;43m1\u001b[39;49m\u001b[43m:\u001b[49m\u001b[43m]\u001b[49m\u001b[38;5;241m=\u001b[39m[[\u001b[38;5;241m9\u001b[39m,\u001b[38;5;241m3\u001b[39m,\u001b[38;5;241m4\u001b[39m],[\u001b[38;5;241m2\u001b[39m,\u001b[38;5;241m3\u001b[39m]]\n",
      "\u001b[1;31mValueError\u001b[0m: setting an array element with a sequence. The requested array has an inhomogeneous shape after 1 dimensions. The detected shape was (2,) + inhomogeneous part."
     ]
    }
   ],
   "source": [
    "d[0,1,2]\n",
    "d[:,1:]=[[9,3,4],[2,3]]"
   ]
  },
  {
   "cell_type": "markdown",
   "metadata": {
    "id": "1d5XPa4yH51X"
   },
   "source": [
    "### Intializing Different Types of Arrays"
   ]
  },
  {
   "cell_type": "code",
   "execution_count": null,
   "metadata": {
    "id": "ns156dUVH51c",
    "outputId": "ca29f52c-fd7a-4cc6-f9b0-04402272ca95"
   },
   "outputs": [
    {
     "data": {
      "text/plain": [
       "array([[100, 100, 100, 100, 100, 100, 100, 100],\n",
       "       [100, 100, 100, 100, 100, 100, 100, 100]])"
      ]
     },
     "execution_count": 92,
     "metadata": {},
     "output_type": "execute_result"
    }
   ],
   "source": [
    "# intialize with zeros\n",
    "np.zeros((1,2,3,4,5))\n",
    "\n",
    "# intialize with 1s\n",
    "np.ones((4,2,2), dtype=\"int32\")\n",
    "\n",
    "#intialize with any number\n",
    "np.full((2,2),99,dtype='float32')\n",
    "\n",
    "# reusing intialized to fill alike\n",
    "np.full_like(v,100)"
   ]
  },
  {
   "cell_type": "code",
   "execution_count": null,
   "metadata": {
    "id": "Rr-cT-ChH51e",
    "outputId": "ffa612bb-1d2a-4bda-b2c1-ddb9ac576c58"
   },
   "outputs": [
    {
     "name": "stdout",
     "output_type": "stream",
     "text": [
      "[['a' 'b']\n",
      " ['d' 'e']\n",
      " ['g' 'h']]\n"
     ]
    }
   ],
   "source": [
    "A = np.array([\n",
    "    ['a', 'b', 'c'],\n",
    "    ['d', 'e', 'f'],\n",
    "    ['g', 'h', 'i']\n",
    "])\n",
    "\n",
    "print(A[:, :2])"
   ]
  },
  {
   "cell_type": "code",
   "execution_count": 20,
   "metadata": {
    "colab": {
     "base_uri": "https://localhost:8080/"
    },
    "id": "WxGyyKcoH51f",
    "outputId": "2d3ac3d4-560d-454b-88ac-7e3ecbc7e202"
   },
   "outputs": [
    {
     "name": "stdout",
     "output_type": "stream",
     "text": [
      "[1 2 3 4 5]\n",
      "<class 'numpy.ndarray'>\n",
      "[2 3 4 5]\n",
      "(2, 5)\n",
      "2\n",
      "10\n",
      "int64\n",
      "[  0. 100. 200. 300. 400. 500.]\n",
      "nan\n"
     ]
    }
   ],
   "source": [
    "a=np.array([1,2,3,4,5])\n",
    "print(a)\n",
    "print(type(a))\n",
    "print(a[1:])\n",
    "a_mul =np.array([[1,2,3,4,5],[1,4,32,22,3]])\n",
    "print(a_mul.shape)\n",
    "print(a_mul.ndim)\n",
    "print(a_mul.size)\n",
    "print(a_mul.dtype)\n",
    "# c= np.full((10,10,10),69)\n",
    "# print(c)\n",
    "# np.zeros and np.ones\n",
    "# empty is different from zeros\n",
    "# x_values = np.arrange(0,1005,5)\n",
    "# print(x_values)\n",
    "y_values = np.linspace(0,500,6)\n",
    "print(y_values)\n",
    "print(np.nan)\n",
    "# print(np.isnan(np.sqrt(-1)))\n",
    "# print(np.isinf(np.array([10])/0))\n"
   ]
  },
  {
   "cell_type": "code",
   "execution_count": 22,
   "metadata": {},
   "outputs": [
    {
     "name": "stdout",
     "output_type": "stream",
     "text": [
      "[[1.         1.41421356 1.73205081]\n",
      " [1.41421356 2.23606798 2.44948974]]\n",
      "[1 2 3 4 5 7 8 6]\n",
      "[ 1  2  3 90 69  4  5]\n",
      "[1 3 4 5]\n",
      "[1 3 4 5]\n",
      "[[1 2]\n",
      " [3 2]\n",
      " [5 6]]\n",
      "[[[1]\n",
      "  [2]\n",
      "  [3]]\n",
      "\n",
      " [[2]\n",
      "  [5]\n",
      "  [6]]]\n",
      "[1 2 3 2 5 6]\n",
      "[[1]\n",
      " [2]\n",
      " [3]\n",
      " [2]\n",
      " [5]\n",
      " [6]]\n",
      "[1 2 3 2 5 6]\n",
      "[1 2 3 2 5 6]\n",
      "[np.int64(1), np.int64(2), np.int64(3), np.int64(2), np.int64(5), np.int64(6)]\n"
     ]
    }
   ],
   "source": [
    "# numpy arrays are operated as vector or matrix when doing mathematical operations\n",
    "# similar cant be done with python lists\n",
    "f = np.array([[1,2,3],[2,5,6]])\n",
    "print(np.sqrt(f)) # return the array with sqrt of each element in the place of element\n",
    "print(np.append(a,[7,8,6]))\n",
    "print(np.insert(a,3,[90,69]))\n",
    "print(np.delete(a,1))\n",
    "print(np.delete(a,1,0))\n",
    "print(f.reshape(3,2))\n",
    "print(f.reshape(2,3,1))\n",
    "print(f.reshape(6,))\n",
    "print(f.reshape(6,1))\n",
    "# reshape doesnt makes any permanent changes but resize does\n",
    "\n",
    "print(f.flatten())\n",
    "print(f.ravel())\n",
    "# flatten creates a copy while ravel makes permanent changes\n",
    "\n",
    "print([v for v in f.flat])"
   ]
  },
  {
   "cell_type": "code",
   "execution_count": 44,
   "metadata": {},
   "outputs": [
    {
     "name": "stdout",
     "output_type": "stream",
     "text": [
      "[[1 2]\n",
      " [2 5]\n",
      " [3 6]]\n",
      "[[1 2]\n",
      " [2 5]\n",
      " [3 6]]\n",
      "[[1 2]\n",
      " [2 5]\n",
      " [3 6]]\n",
      "[[ 1  2  3  4  5]\n",
      " [ 6  7  8  9 10]\n",
      " [11 12 14 13 15]\n",
      " [16 17 18 19 20]]\n",
      "[[ 1  2  3  4  5 11 12 14 13 15]\n",
      " [ 6  7  8  9 10 16 17 18 19 20]]\n",
      "[[[ 1  2  3  4  5]\n",
      "  [ 6  7  8  9 10]]\n",
      "\n",
      " [[11 12 14 13 15]\n",
      "  [16 17 18 19 20]]]\n",
      "[[ 1  2  3  4  5]\n",
      " [ 6  7  8  9 10]\n",
      " [11 12 14 13 15]\n",
      " [16 17 18 19 20]]\n",
      "[[ 1  2  3  4  5 11 12 14 13 15]\n",
      " [ 6  7  8  9 10 16 17 18 19 20]]\n",
      "[array([[ 1,  2,  3,  4,  5],\n",
      "       [ 6,  7,  8,  9, 10]]), array([[11, 12, 14, 13, 15],\n",
      "       [16, 17, 18, 19, 20]])]\n",
      "1\n",
      "20\n",
      "5.766281297335398\n",
      "10.5\n",
      "210\n",
      "10.5\n"
     ]
    }
   ],
   "source": [
    "print(f.transpose())\n",
    "# OR\n",
    "print(f.T)\n",
    "print(f.swapaxes(0,1)) # useful when we have higher dimension of array and we only need to make changes to two arrays\n",
    "a1 = np.array([[1,2,3,4,5],[6,7,8,9,10]])\n",
    "a2= np.array([[11,12,14,13,15],[16,17,18,19,20]])\n",
    "a3 = np.array([[1,2,3,4,5],[6,7,8,9,10],[11,12,14,13,15],[16,17,18,19,20]])\n",
    "print(np.concatenate((a1,a2), axis=0))\n",
    "print(np.concatenate((a1,a2),axis=1))\n",
    "print(np.stack((a1,a2),axis=0))\n",
    "print(np.vstack((a1,a2))) # does same thing as concatenate on 0 axis\n",
    "print(np.hstack((a1,a2))) # does same thing as concatenate on 1 axis\n",
    "print(np.split(a3,2, axis=0))\n",
    "print(a3.min())\n",
    "print(a3.max())\n",
    "print(a3.std())\n",
    "print(a3.mean())\n",
    "print(a3.sum())\n",
    "print(np.median(a3))"
   ]
  },
  {
   "cell_type": "code",
   "execution_count": 56,
   "metadata": {},
   "outputs": [
    {
     "name": "stdout",
     "output_type": "stream",
     "text": [
      "[[[79 21 75 73]\n",
      "  [77 88 46 76]\n",
      "  [60  0  5 50]]\n",
      "\n",
      " [[80 40 98 51]\n",
      "  [41 94 14 11]\n",
      "  [44 47 66 49]]]\n",
      "[[3 4 5 6 3 3 6 4 7 4]\n",
      " [5 7 5 7 6 7 6 3 5 6]\n",
      " [5 2 7 6 3 8 5 6 7 5]\n",
      " [3 4 6 5 6 5 5 2 4 7]\n",
      " [6 7 8 5 4 3 5 5 5 3]]\n",
      "[[156.58320411 160.00343897 173.92180227 187.0411777  173.80586013\n",
      "  168.41723239 163.07887419]\n",
      " [176.45195192 123.20426132 167.86984675 165.43342587 139.50938283\n",
      "  185.2800706  162.19554465]\n",
      " [172.29363124 162.27449619 166.09160797 146.41133384 156.8694852\n",
      "  165.85742269 164.86722293]\n",
      " [147.07964175 179.23006619 175.55047713 159.32928035 178.57640644\n",
      "  152.02544197 160.55397476]\n",
      " [172.64657313 170.08425776 168.96640952 198.08747482 210.22279341\n",
      "  171.21331283 168.51528229]\n",
      " [178.12830299 158.41817295 175.38421612 191.25441852 175.13880068\n",
      "  158.02043786 145.34803217]]\n",
      "[[20 20 10 20 30 40 20 10 50 40]\n",
      " [20 10 50 50 30 30 40 40 40 50]\n",
      " [20 30 10 20 10 40 50 10 50 10]\n",
      " [50 10 40 30 40 30 30 20 10 10]\n",
      " [30 40 20 20 50 10 30 20 10 50]]\n"
     ]
    }
   ],
   "source": [
    "numbero = np.random.randint(100,size=(2,3,4))\n",
    "print(numbero)\n",
    "print(np.random.binomial(10,p=0.5,size=(5,10)))\n",
    "print(np.random.normal(loc=170,scale=15,size=(6,7)))\n",
    "print(np.random.choice([10,20,30,40,50],size=(5,10)))\n"
   ]
  },
  {
   "cell_type": "code",
   "execution_count": 58,
   "metadata": {},
   "outputs": [],
   "source": [
    "np.save('myarray.npy',a3)"
   ]
  },
  {
   "cell_type": "code",
   "execution_count": 62,
   "metadata": {},
   "outputs": [
    {
     "name": "stdout",
     "output_type": "stream",
     "text": [
      "[[ 1  2  3  4  5]\n",
      " [ 6  7  8  9 10]\n",
      " [11 12 14 13 15]\n",
      " [16 17 18 19 20]]\n"
     ]
    }
   ],
   "source": [
    "print(np.load(\"myarray.npy\"))\n",
    "np.savetxt(\"arraycsv.csv\",a3,delimiter=\",\")"
   ]
  },
  {
   "cell_type": "code",
   "execution_count": 63,
   "metadata": {},
   "outputs": [
    {
     "name": "stdout",
     "output_type": "stream",
     "text": [
      "[[ 1.  2.  3.  4.  5.]\n",
      " [ 6.  7.  8.  9. 10.]\n",
      " [11. 12. 14. 13. 15.]\n",
      " [16. 17. 18. 19. 20.]]\n"
     ]
    }
   ],
   "source": [
    "print(np.loadtxt(\"arraycsv.csv\",delimiter=\",\"))"
   ]
  }
 ],
 "metadata": {
  "colab": {
   "provenance": []
  },
  "kernelspec": {
   "display_name": "Python 3 (ipykernel)",
   "language": "python",
   "name": "python3"
  },
  "language_info": {
   "codemirror_mode": {
    "name": "ipython",
    "version": 3
   },
   "file_extension": ".py",
   "mimetype": "text/x-python",
   "name": "python",
   "nbconvert_exporter": "python",
   "pygments_lexer": "ipython3",
   "version": "3.12.6"
  }
 },
 "nbformat": 4,
 "nbformat_minor": 4
}
